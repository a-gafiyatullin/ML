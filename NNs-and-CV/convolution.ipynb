{
  "nbformat": 4,
  "nbformat_minor": 0,
  "metadata": {
    "colab": {
      "provenance": []
    },
    "kernelspec": {
      "name": "python3",
      "display_name": "Python 3"
    },
    "language_info": {
      "name": "python"
    }
  },
  "cells": [
    {
      "cell_type": "code",
      "execution_count": 1,
      "metadata": {
        "id": "zCU6ZCczHREs"
      },
      "outputs": [],
      "source": [
        "import torch"
      ]
    },
    {
      "cell_type": "code",
      "source": [
        "input_images = torch.tensor(\n",
        "      [[[[0,  1,  2],\n",
        "         [3,  4,  5],\n",
        "         [6,  7,  8]],\n",
        "\n",
        "        [[9, 10, 11],\n",
        "         [12, 13, 14],\n",
        "         [15, 16, 17]],\n",
        "\n",
        "        [[18, 19, 20],\n",
        "         [21, 22, 23],\n",
        "         [24, 25, 26]]],\n",
        "\n",
        "\n",
        "       [[[27, 28, 29],\n",
        "         [30, 31, 32],\n",
        "         [33, 34, 35]],\n",
        "\n",
        "        [[36, 37, 38],\n",
        "         [39, 40, 41],\n",
        "         [42, 43, 44]],\n",
        "\n",
        "        [[45, 46, 47],\n",
        "         [48, 49, 50],\n",
        "         [51, 52, 53]]]])"
      ],
      "metadata": {
        "id": "zzJcBDSnHYry"
      },
      "execution_count": 2,
      "outputs": []
    },
    {
      "cell_type": "code",
      "source": [
        "def get_padding2d(input_images):\n",
        "  images = []\n",
        "  for batch in input_images:\n",
        "    images.append([])\n",
        "    for image in batch:\n",
        "      images[-1].append([])\n",
        "      for row in image:\n",
        "        images[-1][-1].append([0.])\n",
        "        images[-1][-1][-1].extend(row.float().tolist())\n",
        "        images[-1][-1][-1].extend([0.])\n",
        "      images[-1][-1].insert(0, [0.]*len(images[-1][-1][-1]))\n",
        "      images[-1][-1].append([0.]*len(images[-1][-1][-1]))\n",
        "  return torch.tensor(images)"
      ],
      "metadata": {
        "id": "ITzu8aMWHqpp"
      },
      "execution_count": 3,
      "outputs": []
    },
    {
      "cell_type": "code",
      "source": [
        "get_padding2d(input_images)"
      ],
      "metadata": {
        "colab": {
          "base_uri": "https://localhost:8080/"
        },
        "id": "-sUo99GdIQA8",
        "outputId": "a9315f0e-dea6-445b-e6a8-94c6ebac6614"
      },
      "execution_count": 4,
      "outputs": [
        {
          "output_type": "execute_result",
          "data": {
            "text/plain": [
              "tensor([[[[ 0.,  0.,  0.,  0.,  0.],\n",
              "          [ 0.,  0.,  1.,  2.,  0.],\n",
              "          [ 0.,  3.,  4.,  5.,  0.],\n",
              "          [ 0.,  6.,  7.,  8.,  0.],\n",
              "          [ 0.,  0.,  0.,  0.,  0.]],\n",
              "\n",
              "         [[ 0.,  0.,  0.,  0.,  0.],\n",
              "          [ 0.,  9., 10., 11.,  0.],\n",
              "          [ 0., 12., 13., 14.,  0.],\n",
              "          [ 0., 15., 16., 17.,  0.],\n",
              "          [ 0.,  0.,  0.,  0.,  0.]],\n",
              "\n",
              "         [[ 0.,  0.,  0.,  0.,  0.],\n",
              "          [ 0., 18., 19., 20.,  0.],\n",
              "          [ 0., 21., 22., 23.,  0.],\n",
              "          [ 0., 24., 25., 26.,  0.],\n",
              "          [ 0.,  0.,  0.,  0.,  0.]]],\n",
              "\n",
              "\n",
              "        [[[ 0.,  0.,  0.,  0.,  0.],\n",
              "          [ 0., 27., 28., 29.,  0.],\n",
              "          [ 0., 30., 31., 32.,  0.],\n",
              "          [ 0., 33., 34., 35.,  0.],\n",
              "          [ 0.,  0.,  0.,  0.,  0.]],\n",
              "\n",
              "         [[ 0.,  0.,  0.,  0.,  0.],\n",
              "          [ 0., 36., 37., 38.,  0.],\n",
              "          [ 0., 39., 40., 41.,  0.],\n",
              "          [ 0., 42., 43., 44.,  0.],\n",
              "          [ 0.,  0.,  0.,  0.,  0.]],\n",
              "\n",
              "         [[ 0.,  0.,  0.,  0.,  0.],\n",
              "          [ 0., 45., 46., 47.,  0.],\n",
              "          [ 0., 48., 49., 50.,  0.],\n",
              "          [ 0., 51., 52., 53.,  0.],\n",
              "          [ 0.,  0.,  0.,  0.,  0.]]]])"
            ]
          },
          "metadata": {},
          "execution_count": 4
        }
      ]
    },
    {
      "cell_type": "code",
      "source": [
        "correct_padded_images = torch.tensor(\n",
        "       [[[[0.,  0.,  0.,  0.,  0.],\n",
        "          [0.,  0.,  1.,  2.,  0.],\n",
        "          [0.,  3.,  4.,  5.,  0.],\n",
        "          [0.,  6.,  7.,  8.,  0.],\n",
        "          [0.,  0.,  0.,  0.,  0.]],\n",
        "\n",
        "         [[0.,  0.,  0.,  0.,  0.],\n",
        "          [0.,  9., 10., 11.,  0.],\n",
        "          [0., 12., 13., 14.,  0.],\n",
        "          [0., 15., 16., 17.,  0.],\n",
        "          [0.,  0.,  0.,  0.,  0.]],\n",
        "\n",
        "         [[0.,  0.,  0.,  0.,  0.],\n",
        "          [0., 18., 19., 20.,  0.],\n",
        "          [0., 21., 22., 23.,  0.],\n",
        "          [0., 24., 25., 26.,  0.],\n",
        "          [0.,  0.,  0.,  0.,  0.]]],\n",
        "\n",
        "\n",
        "        [[[0.,  0.,  0.,  0.,  0.],\n",
        "          [0., 27., 28., 29.,  0.],\n",
        "          [0., 30., 31., 32.,  0.],\n",
        "          [0., 33., 34., 35.,  0.],\n",
        "          [0.,  0.,  0.,  0.,  0.]],\n",
        "\n",
        "         [[0.,  0.,  0.,  0.,  0.],\n",
        "          [0., 36., 37., 38.,  0.],\n",
        "          [0., 39., 40., 41.,  0.],\n",
        "          [0., 42., 43., 44.,  0.],\n",
        "          [0.,  0.,  0.,  0.,  0.]],\n",
        "\n",
        "         [[0.,  0.,  0.,  0.,  0.],\n",
        "          [0., 45., 46., 47.,  0.],\n",
        "          [0., 48., 49., 50.,  0.],\n",
        "          [0., 51., 52., 53.,  0.],\n",
        "          [0.,  0.,  0.,  0.,  0.]]]])"
      ],
      "metadata": {
        "id": "cIMM59nCNbMQ"
      },
      "execution_count": 5,
      "outputs": []
    },
    {
      "cell_type": "code",
      "source": [
        "print(torch.allclose(get_padding2d(input_images), correct_padded_images))"
      ],
      "metadata": {
        "colab": {
          "base_uri": "https://localhost:8080/"
        },
        "id": "RyiDSC7YNunX",
        "outputId": "fa16aa97-9e7b-4233-e01d-2d404dd9c907"
      },
      "execution_count": 6,
      "outputs": [
        {
          "output_type": "stream",
          "name": "stdout",
          "text": [
            "True\n"
          ]
        }
      ]
    },
    {
      "cell_type": "code",
      "source": [
        "import numpy as np\n",
        "import math\n",
        "\n",
        "def calc_out_shape(input_matrix_shape, out_channels, kernel_size, stride, padding):\n",
        "    out_shape = input_matrix_shape.copy()\n",
        "    out_shape[1] = out_channels\n",
        "    out_shape[2] = math.floor(((out_shape[2] + padding * 2) - (kernel_size - 1) - 1) // stride + 1)\n",
        "    out_shape[3] = math.floor(((out_shape[3] + padding * 2) - (kernel_size - 1) - 1) // stride + 1)\n",
        "\n",
        "    return out_shape\n",
        "\n",
        "print(np.array_equal(\n",
        "    calc_out_shape(input_matrix_shape=[2, 3, 10, 10],\n",
        "                   out_channels=10,\n",
        "                   kernel_size=3,\n",
        "                   stride=1,\n",
        "                   padding=0),\n",
        "    [2, 10, 8, 8]))"
      ],
      "metadata": {
        "colab": {
          "base_uri": "https://localhost:8080/"
        },
        "id": "poLuZE5iOPt8",
        "outputId": "93887444-f460-4199-9859-9a0341047514"
      },
      "execution_count": 7,
      "outputs": [
        {
          "output_type": "stream",
          "name": "stdout",
          "text": [
            "True\n"
          ]
        }
      ]
    },
    {
      "cell_type": "code",
      "source": [
        "from abc import ABC, abstractmethod\n",
        "\n",
        "def calc_out_shape(input_matrix_shape, out_channels, kernel_size, stride, padding):\n",
        "  batch_size, channels_count, input_height, input_width = input_matrix_shape\n",
        "  output_height = (input_height + 2 * padding - (kernel_size - 1) - 1) // stride + 1\n",
        "  output_width = (input_width + 2 * padding - (kernel_size - 1) - 1) // stride + 1\n",
        "\n",
        "  return batch_size, out_channels, output_height, output_width\n",
        "\n",
        "\n",
        "class ABCConv2d(ABC):\n",
        "  def __init__(self, in_channels, out_channels, kernel_size, stride):\n",
        "    self.in_channels = in_channels\n",
        "    self.out_channels = out_channels\n",
        "    self.kernel_size = kernel_size\n",
        "    self.stride = stride\n",
        "\n",
        "  def set_kernel(self, kernel):\n",
        "    self.kernel = kernel\n",
        "\n",
        "  @abstractmethod\n",
        "  def __call__(self, input_tensor):\n",
        "    pass\n",
        "\n",
        "\n",
        "class Conv2d(ABCConv2d):\n",
        "  def __init__(self, in_channels, out_channels, kernel_size, stride):\n",
        "    self.conv2d = torch.nn.Conv2d(in_channels, out_channels, kernel_size,\n",
        "                                  stride, padding=0, bias=False)\n",
        "\n",
        "  def set_kernel(self, kernel):\n",
        "    self.conv2d.weight.data = kernel\n",
        "\n",
        "  def __call__(self, input_tensor):\n",
        "    return self.conv2d(input_tensor)\n",
        "\n",
        "\n",
        "def create_and_call_conv2d_layer(conv2d_layer_class, stride, kernel, input_matrix):\n",
        "  out_channels = kernel.shape[0]\n",
        "  in_channels = kernel.shape[1]\n",
        "  kernel_size = kernel.shape[2]\n",
        "\n",
        "  layer = conv2d_layer_class(in_channels, out_channels, kernel_size, stride)\n",
        "  layer.set_kernel(kernel)\n",
        "\n",
        "  return layer(input_matrix)\n",
        "\n",
        "\n",
        "def test_conv2d_layer(conv2d_layer_class, batch_size=2,\n",
        "                      input_height=4, input_width=4, stride=2):\n",
        "  kernel = torch.tensor(\n",
        "                      [[[[0., 1, 0],\n",
        "                         [1,  2, 1],\n",
        "                         [0,  1, 0]],\n",
        "\n",
        "                        [[1, 2, 1],\n",
        "                         [0, 3, 3],\n",
        "                         [0, 1, 10]],\n",
        "\n",
        "                        [[10, 11, 12],\n",
        "                         [13, 14, 15],\n",
        "                         [16, 17, 18]]]])\n",
        "\n",
        "  in_channels = kernel.shape[1]\n",
        "\n",
        "  input_tensor = torch.arange(0, batch_size * in_channels *\n",
        "                                input_height * input_width,\n",
        "                                out=torch.FloatTensor()) \\\n",
        "        .reshape(batch_size, in_channels, input_height, input_width)\n",
        "\n",
        "  custom_conv2d_out = create_and_call_conv2d_layer(\n",
        "        conv2d_layer_class, stride, kernel, input_tensor)\n",
        "  conv2d_out = create_and_call_conv2d_layer(\n",
        "        Conv2d, stride, kernel, input_tensor)\n",
        "\n",
        "  return torch.allclose(custom_conv2d_out, conv2d_out) \\\n",
        "             and (custom_conv2d_out.shape == conv2d_out.shape)"
      ],
      "metadata": {
        "id": "8qDpR6nmY1pf"
      },
      "execution_count": 8,
      "outputs": []
    },
    {
      "cell_type": "code",
      "source": [
        "class Conv2dLoop(ABCConv2d):\n",
        "  def __call__(self, input_tensor):\n",
        "    output_tensor = []\n",
        "\n",
        "    n,c,h,w = input_tensor.shape\n",
        "\n",
        "    for batch in range(0, n):\n",
        "      output_tensor.append([])\n",
        "      for ker in self.kernel:\n",
        "        output_tensor[-1].append([])\n",
        "        for hi in range(0, h - self.kernel_size):\n",
        "          output_tensor[-1][-1].append([])\n",
        "          for wi in range(0, w - self.kernel_size):\n",
        "            sum = 0\n",
        "            for channel in range(0, c):\n",
        "              for i in range(0, self.kernel_size):\n",
        "                for j in range(0, self.kernel_size):\n",
        "                  sum = sum + input_tensor[batch][channel][hi + i][wi + j] * ker[channel][i][j]\n",
        "            output_tensor[-1][-1][-1].append(sum)\n",
        "\n",
        "    return torch.tensor(output_tensor)"
      ],
      "metadata": {
        "id": "Rke3JPqCZjLw"
      },
      "execution_count": 9,
      "outputs": []
    },
    {
      "cell_type": "code",
      "source": [
        "print(test_conv2d_layer(Conv2dLoop))"
      ],
      "metadata": {
        "colab": {
          "base_uri": "https://localhost:8080/"
        },
        "id": "gdZvXew7aXFe",
        "outputId": "3019a26d-5246-42aa-af7f-0b9dbdbcdcc7"
      },
      "execution_count": 10,
      "outputs": [
        {
          "output_type": "stream",
          "name": "stdout",
          "text": [
            "True\n"
          ]
        }
      ]
    },
    {
      "cell_type": "code",
      "source": [
        "class Conv2dMatrix(ABCConv2d):\n",
        "  def _unsqueeze_kernel(self, torch_input, output_height, output_width):\n",
        "    kernel_unsqueezed = []\n",
        "\n",
        "    for ker in self.kernel:\n",
        "      kernel_unsqueezed.append([])\n",
        "      for h in range(0, output_height * output_width):\n",
        "        start = (h // output_width) * torch_input.shape[3] + (h % output_width)\n",
        "        for channel in range(0, ker.shape[0]):\n",
        "          gap = torch_input.shape[3] - ker[channel].shape[1]\n",
        "          linear_kernel = []\n",
        "          for h in ker[channel]:\n",
        "            for w in h:\n",
        "              linear_kernel.append(w.item())\n",
        "            linear_kernel.extend([0.] * gap)\n",
        "          segment = [0.] * start\n",
        "          segment.extend(linear_kernel)\n",
        "          kernel_unsqueezed[-1].extend(segment)\n",
        "          kernel_unsqueezed[-1].extend([0.] * (torch_input.shape[2] * torch_input.shape[3] - len(segment)))\n",
        "\n",
        "    return torch.tensor(kernel_unsqueezed)\n",
        "\n",
        "  def __call__(self, torch_input):\n",
        "    batch_size, out_channels, output_height, output_width = calc_out_shape(\n",
        "        input_matrix_shape=torch_input.shape,\n",
        "        out_channels=self.kernel.shape[0],\n",
        "        kernel_size=self.kernel.shape[2],\n",
        "        stride=self.stride,\n",
        "        padding=0)\n",
        "\n",
        "    kernel_unsqueezed = self._unsqueeze_kernel(torch_input, output_height, output_width)\n",
        "    result = kernel_unsqueezed @ torch_input.view((batch_size, -1)).permute(1, 0)\n",
        "    return result.permute(1, 0).view((batch_size, self.out_channels,\n",
        "                                      output_height, output_width))"
      ],
      "metadata": {
        "id": "ttMWadGXkzH-"
      },
      "execution_count": 11,
      "outputs": []
    },
    {
      "cell_type": "code",
      "source": [
        "print(test_conv2d_layer(Conv2dMatrix))"
      ],
      "metadata": {
        "colab": {
          "base_uri": "https://localhost:8080/"
        },
        "id": "yQUjV0rHuDn0",
        "outputId": "ef1113f9-ad66-446c-d76d-d43c275ad7d6"
      },
      "execution_count": 12,
      "outputs": [
        {
          "output_type": "stream",
          "name": "stdout",
          "text": [
            "True\n"
          ]
        }
      ]
    },
    {
      "cell_type": "code",
      "source": [
        "class Conv2dMatrixV2(ABCConv2d):\n",
        "  def _convert_kernel(self):\n",
        "    converted_kernel = []\n",
        "    for ker in self.kernel:\n",
        "      converted_kernel.append([])\n",
        "      for channel in ker:\n",
        "        converted_kernel[-1].extend(channel.reshape([-1]).tolist())\n",
        "\n",
        "    return torch.tensor(converted_kernel)\n",
        "\n",
        "  def _convert_input(self, torch_input, output_height, output_width):\n",
        "      n,c,h,w = torch_input.shape\n",
        "      output_tensor = [ [] for _ in range(n) ]\n",
        "\n",
        "      for batch in range(0, n):\n",
        "        for channel in range(0, c):\n",
        "          for hi in range(0, h - self.kernel_size):\n",
        "            for wi in range(0, w - self.kernel_size):\n",
        "              for i in range(0, self.kernel_size):\n",
        "                for j in range(0, self.kernel_size):\n",
        "                  output_tensor[batch].append(torch_input[batch][channel][hi + i][wi + j].item())\n",
        "\n",
        "      return torch.tensor(output_tensor).transpose(0, 1)\n",
        "\n",
        "  def __call__(self, torch_input):\n",
        "      batch_size, out_channels, output_height, output_width = calc_out_shape(\n",
        "          input_matrix_shape=torch_input.shape,\n",
        "          out_channels=self.kernel.shape[0],\n",
        "          kernel_size=self.kernel.shape[2],\n",
        "          stride=self.stride,\n",
        "          padding=0)\n",
        "\n",
        "      converted_kernel = self._convert_kernel()\n",
        "      converted_input = self._convert_input(torch_input, output_height, output_width)\n",
        "\n",
        "      conv2d_out_alternative_matrix_v2 = converted_kernel @ converted_input\n",
        "      return conv2d_out_alternative_matrix_v2.transpose(1,0).view(torch_input.shape[0],\n",
        "                                                                  self.out_channels,\n",
        "                                                                  output_height,\n",
        "                                                                  output_width)"
      ],
      "metadata": {
        "id": "j3uM0v0_7C_-"
      },
      "execution_count": 76,
      "outputs": []
    },
    {
      "cell_type": "code",
      "source": [
        "print(test_conv2d_layer(Conv2dMatrixV2))"
      ],
      "metadata": {
        "colab": {
          "base_uri": "https://localhost:8080/"
        },
        "id": "1JsEzYyw-IXA",
        "outputId": "8afd5d78-05ef-4c8e-f8d7-55d6dd026dc1"
      },
      "execution_count": 77,
      "outputs": [
        {
          "output_type": "stream",
          "name": "stdout",
          "text": [
            "True\n"
          ]
        }
      ]
    }
  ]
}