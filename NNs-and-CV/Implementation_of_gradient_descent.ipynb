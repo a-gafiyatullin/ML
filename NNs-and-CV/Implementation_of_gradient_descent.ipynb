{
  "nbformat": 4,
  "nbformat_minor": 0,
  "metadata": {
    "colab": {
      "provenance": []
    },
    "kernelspec": {
      "name": "python3",
      "display_name": "Python 3"
    },
    "language_info": {
      "name": "python"
    }
  },
  "cells": [
    {
      "cell_type": "code",
      "execution_count": 1,
      "metadata": {
        "id": "izVtQa2egEo8"
      },
      "outputs": [],
      "source": [
        "import torch"
      ]
    },
    {
      "cell_type": "code",
      "source": [
        "x = torch.tensor([[1., 2., 3., 4.],\n",
        "                  [5., 6., 7., 8.],\n",
        "                  [9., 10., 11., 12.]], requires_grad=True)"
      ],
      "metadata": {
        "id": "ZaEyp6irgMpU"
      },
      "execution_count": 2,
      "outputs": []
    },
    {
      "cell_type": "code",
      "source": [
        "device = torch.device('cuda:0' if torch.cuda.is_available() else 'cpu')"
      ],
      "metadata": {
        "id": "3f56Vfqxgoqn"
      },
      "execution_count": 3,
      "outputs": []
    },
    {
      "cell_type": "code",
      "source": [
        "x = x.to(device)"
      ],
      "metadata": {
        "id": "D7SRi15fgv0i"
      },
      "execution_count": 4,
      "outputs": []
    },
    {
      "cell_type": "code",
      "source": [
        "function = 10 * (x ** 2).sum()"
      ],
      "metadata": {
        "id": "rDA6onYfgywd"
      },
      "execution_count": 5,
      "outputs": []
    },
    {
      "cell_type": "code",
      "source": [
        "function.backward()"
      ],
      "metadata": {
        "id": "hPBto-T-g3bD"
      },
      "execution_count": 6,
      "outputs": []
    },
    {
      "cell_type": "code",
      "source": [
        "print(x.grad, '< - gradient')"
      ],
      "metadata": {
        "colab": {
          "base_uri": "https://localhost:8080/"
        },
        "id": "N9LQafgmg6Bs",
        "outputId": "dc1ccaea-558f-4f6d-e722-6a85db7cc67c"
      },
      "execution_count": 7,
      "outputs": [
        {
          "output_type": "stream",
          "name": "stdout",
          "text": [
            "tensor([[ 20.,  40.,  60.,  80.],\n",
            "        [100., 120., 140., 160.],\n",
            "        [180., 200., 220., 240.]]) < - gradient\n"
          ]
        }
      ]
    },
    {
      "cell_type": "code",
      "source": [
        "# 2.7\n",
        "\n",
        "w = torch.tensor([[5., 10.],\n",
        "                  [1., 2.]], requires_grad=True)"
      ],
      "metadata": {
        "id": "GxIz0u2-h3H6"
      },
      "execution_count": 8,
      "outputs": []
    },
    {
      "cell_type": "code",
      "source": [
        "func = torch.log(torch.log(w + 7)).prod()"
      ],
      "metadata": {
        "id": "iK-O0klNiFWc"
      },
      "execution_count": 12,
      "outputs": []
    },
    {
      "cell_type": "code",
      "source": [
        "func.backward()"
      ],
      "metadata": {
        "id": "3adc-jTfiz02"
      },
      "execution_count": 13,
      "outputs": []
    },
    {
      "cell_type": "code",
      "source": [
        "print(w.grad, '<- gradient')"
      ],
      "metadata": {
        "colab": {
          "base_uri": "https://localhost:8080/"
        },
        "id": "xye4Xlk-i2mO",
        "outputId": "f7df5bc9-351a-4ad8-800d-7e997eb82470"
      },
      "execution_count": 14,
      "outputs": [
        {
          "output_type": "stream",
          "name": "stdout",
          "text": [
            "tensor([[0.0201, 0.0109],\n",
            "        [0.0449, 0.0351]]) <- gradient\n"
          ]
        }
      ]
    },
    {
      "cell_type": "code",
      "source": [
        "w = torch.tensor([[5., 10.], [1., 2.]], requires_grad=True)\n",
        "alpha = 0.001\n",
        "\n",
        "for _ in range(500):\n",
        "    # critical: calculate the function inside the loop\n",
        "    function = (w + 7).log().log().prod()\n",
        "    function.backward()\n",
        "    w.data -=  alpha * w.grad\n",
        "    w.grad.zero_()\n",
        "\n",
        "print(w)"
      ],
      "metadata": {
        "colab": {
          "base_uri": "https://localhost:8080/"
        },
        "id": "CUxD0zdXj7Jy",
        "outputId": "7e3e5fc0-f7fb-416c-abcd-507ef0557554"
      },
      "execution_count": 16,
      "outputs": [
        {
          "output_type": "stream",
          "name": "stdout",
          "text": [
            "tensor([[4.9900, 9.9948],\n",
            "        [0.9775, 1.9825]], requires_grad=True)\n"
          ]
        }
      ]
    },
    {
      "cell_type": "code",
      "source": [
        "w = torch.tensor([[5., 10.], [1., 2.]], requires_grad=True)\n",
        "optimizer = torch.optim.SGD([w], lr=0.001)\n",
        "\n",
        "for _ in range(500):\n",
        "    # critical: calculate the function inside the loop\n",
        "    function = (w + 7).log().log().prod()\n",
        "    function.backward()\n",
        "    optimizer.step()\n",
        "    optimizer.zero_grad()\n",
        "\n",
        "print(w)"
      ],
      "metadata": {
        "colab": {
          "base_uri": "https://localhost:8080/"
        },
        "id": "iZYgQZsNkmMQ",
        "outputId": "d5a78b83-a73f-4598-b08a-12654f3dd0df"
      },
      "execution_count": 18,
      "outputs": [
        {
          "output_type": "stream",
          "name": "stdout",
          "text": [
            "tensor([[4.9900, 9.9948],\n",
            "        [0.9775, 1.9825]], requires_grad=True)\n"
          ]
        }
      ]
    }
  ]
}