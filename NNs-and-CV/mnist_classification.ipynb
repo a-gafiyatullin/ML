{
  "nbformat": 4,
  "nbformat_minor": 0,
  "metadata": {
    "colab": {
      "provenance": [],
      "gpuType": "T4"
    },
    "kernelspec": {
      "name": "python3",
      "display_name": "Python 3"
    },
    "language_info": {
      "name": "python"
    },
    "accelerator": "GPU"
  },
  "cells": [
    {
      "cell_type": "code",
      "execution_count": null,
      "metadata": {
        "id": "d0CiLxg17Pew"
      },
      "outputs": [],
      "source": [
        "import torch\n",
        "import random\n",
        "import numpy as np\n",
        "\n",
        "random.seed(0)\n",
        "np.random.seed(0)\n",
        "torch.manual_seed(0)\n",
        "torch.cuda.manual_seed(0)\n",
        "torch.backends.cudnn.deterministic = True"
      ]
    },
    {
      "cell_type": "code",
      "source": [
        "import torchvision.datasets\n",
        "MNIST_train = torchvision.datasets.MNIST('./', download=True, train=True)\n",
        "MNIST_test = torchvision.datasets.MNIST('./', download=True, train=False)"
      ],
      "metadata": {
        "colab": {
          "base_uri": "https://localhost:8080/"
        },
        "id": "v93fqeS58bd7",
        "outputId": "7f44f5ca-216e-4c61-f1da-fe361a674a9f"
      },
      "execution_count": null,
      "outputs": [
        {
          "output_type": "stream",
          "name": "stdout",
          "text": [
            "Downloading http://yann.lecun.com/exdb/mnist/train-images-idx3-ubyte.gz\n",
            "Downloading http://yann.lecun.com/exdb/mnist/train-images-idx3-ubyte.gz to ./MNIST/raw/train-images-idx3-ubyte.gz\n"
          ]
        },
        {
          "output_type": "stream",
          "name": "stderr",
          "text": [
            "100%|██████████| 9912422/9912422 [00:01<00:00, 6985492.81it/s] \n"
          ]
        },
        {
          "output_type": "stream",
          "name": "stdout",
          "text": [
            "Extracting ./MNIST/raw/train-images-idx3-ubyte.gz to ./MNIST/raw\n",
            "\n",
            "Downloading http://yann.lecun.com/exdb/mnist/train-labels-idx1-ubyte.gz\n",
            "Downloading http://yann.lecun.com/exdb/mnist/train-labels-idx1-ubyte.gz to ./MNIST/raw/train-labels-idx1-ubyte.gz\n"
          ]
        },
        {
          "output_type": "stream",
          "name": "stderr",
          "text": [
            "100%|██████████| 28881/28881 [00:00<00:00, 2127501.74it/s]\n"
          ]
        },
        {
          "output_type": "stream",
          "name": "stdout",
          "text": [
            "Extracting ./MNIST/raw/train-labels-idx1-ubyte.gz to ./MNIST/raw\n",
            "\n",
            "Downloading http://yann.lecun.com/exdb/mnist/t10k-images-idx3-ubyte.gz\n",
            "Downloading http://yann.lecun.com/exdb/mnist/t10k-images-idx3-ubyte.gz to ./MNIST/raw/t10k-images-idx3-ubyte.gz\n"
          ]
        },
        {
          "output_type": "stream",
          "name": "stderr",
          "text": [
            "100%|██████████| 1648877/1648877 [00:00<00:00, 138592240.57it/s]"
          ]
        },
        {
          "output_type": "stream",
          "name": "stdout",
          "text": [
            "Extracting ./MNIST/raw/t10k-images-idx3-ubyte.gz to ./MNIST/raw\n",
            "\n",
            "Downloading http://yann.lecun.com/exdb/mnist/t10k-labels-idx1-ubyte.gz\n"
          ]
        },
        {
          "output_type": "stream",
          "name": "stderr",
          "text": [
            "\n"
          ]
        },
        {
          "output_type": "stream",
          "name": "stdout",
          "text": [
            "Downloading http://yann.lecun.com/exdb/mnist/t10k-labels-idx1-ubyte.gz to ./MNIST/raw/t10k-labels-idx1-ubyte.gz\n"
          ]
        },
        {
          "output_type": "stream",
          "name": "stderr",
          "text": [
            "100%|██████████| 4542/4542 [00:00<00:00, 18993548.12it/s]"
          ]
        },
        {
          "output_type": "stream",
          "name": "stdout",
          "text": [
            "Extracting ./MNIST/raw/t10k-labels-idx1-ubyte.gz to ./MNIST/raw\n",
            "\n"
          ]
        },
        {
          "output_type": "stream",
          "name": "stderr",
          "text": [
            "\n"
          ]
        }
      ]
    },
    {
      "cell_type": "code",
      "source": [
        "X_train = MNIST_train.train_data\n",
        "y_train= MNIST_train.train_labels\n",
        "X_test = MNIST_test.test_data\n",
        "y_test = MNIST_test.test_labels"
      ],
      "metadata": {
        "colab": {
          "base_uri": "https://localhost:8080/"
        },
        "id": "sbnNch0X8yw4",
        "outputId": "4b903b06-c410-450b-dd12-70968524a980"
      },
      "execution_count": null,
      "outputs": [
        {
          "output_type": "stream",
          "name": "stderr",
          "text": [
            "/usr/local/lib/python3.10/dist-packages/torchvision/datasets/mnist.py:75: UserWarning: train_data has been renamed data\n",
            "  warnings.warn(\"train_data has been renamed data\")\n",
            "/usr/local/lib/python3.10/dist-packages/torchvision/datasets/mnist.py:65: UserWarning: train_labels has been renamed targets\n",
            "  warnings.warn(\"train_labels has been renamed targets\")\n",
            "/usr/local/lib/python3.10/dist-packages/torchvision/datasets/mnist.py:80: UserWarning: test_data has been renamed data\n",
            "  warnings.warn(\"test_data has been renamed data\")\n",
            "/usr/local/lib/python3.10/dist-packages/torchvision/datasets/mnist.py:70: UserWarning: test_labels has been renamed targets\n",
            "  warnings.warn(\"test_labels has been renamed targets\")\n"
          ]
        }
      ]
    },
    {
      "cell_type": "code",
      "source": [
        "X_train.dtype, y_train.dtype"
      ],
      "metadata": {
        "colab": {
          "base_uri": "https://localhost:8080/"
        },
        "id": "ap4IQWd29D3y",
        "outputId": "f78bd782-aa68-4f06-96d5-5d73b1b0019b"
      },
      "execution_count": null,
      "outputs": [
        {
          "output_type": "execute_result",
          "data": {
            "text/plain": [
              "(torch.uint8, torch.int64)"
            ]
          },
          "metadata": {},
          "execution_count": 4
        }
      ]
    },
    {
      "cell_type": "code",
      "source": [
        "X_train = X_train.float()\n",
        "X_test = X_test.float()"
      ],
      "metadata": {
        "id": "NYCVM0aV9H8c"
      },
      "execution_count": null,
      "outputs": []
    },
    {
      "cell_type": "code",
      "source": [
        "X_train.shape, X_test.shape"
      ],
      "metadata": {
        "colab": {
          "base_uri": "https://localhost:8080/"
        },
        "id": "qrjGupYw9O0Z",
        "outputId": "eb7b7bb0-f867-4431-e330-cb03118ef870"
      },
      "execution_count": null,
      "outputs": [
        {
          "output_type": "execute_result",
          "data": {
            "text/plain": [
              "(torch.Size([60000, 28, 28]), torch.Size([10000, 28, 28]))"
            ]
          },
          "metadata": {},
          "execution_count": 6
        }
      ]
    },
    {
      "cell_type": "code",
      "source": [
        "y_train.shape, y_test.shape"
      ],
      "metadata": {
        "colab": {
          "base_uri": "https://localhost:8080/"
        },
        "id": "k9xjKAHx9Sm_",
        "outputId": "27cdac94-6afd-46fb-bcd4-a45b1fc88af5"
      },
      "execution_count": null,
      "outputs": [
        {
          "output_type": "execute_result",
          "data": {
            "text/plain": [
              "(torch.Size([60000]), torch.Size([10000]))"
            ]
          },
          "metadata": {},
          "execution_count": 7
        }
      ]
    },
    {
      "cell_type": "code",
      "source": [
        "import matplotlib.pyplot as plt\n",
        "plt.imshow(X_train[0, :, :])\n",
        "plt.show()\n",
        "print(y_train[0])"
      ],
      "metadata": {
        "colab": {
          "base_uri": "https://localhost:8080/",
          "height": 447
        },
        "id": "YkZo4IsM9Yf2",
        "outputId": "140664df-09a1-491c-e05c-3d5a26ff413b"
      },
      "execution_count": null,
      "outputs": [
        {
          "output_type": "display_data",
          "data": {
            "text/plain": [
              "<Figure size 640x480 with 1 Axes>"
            ],
            "image/png": "[encoded data removed]"
          },
          "metadata": {}
        },
        {
          "output_type": "stream",
          "name": "stdout",
          "text": [
            "tensor(5)\n"
          ]
        }
      ]
    },
    {
      "cell_type": "code",
      "source": [
        "X_train = X_train.reshape([-1, 28 * 28])\n",
        "X_test = X_test.reshape([-1, 28 * 28])"
      ],
      "metadata": {
        "id": "AiXzab839lux"
      },
      "execution_count": null,
      "outputs": []
    },
    {
      "cell_type": "code",
      "source": [
        "class MNISTNet(torch.nn.Module):\n",
        "  def __init__(self, n_hidden_neurons):\n",
        "    super(MNISTNet, self).__init__()\n",
        "\n",
        "    self.fc1 = torch.nn.Linear(28*28, n_hidden_neurons)\n",
        "    self.act1 = torch.nn.Sigmoid()\n",
        "    self.fc2 = torch.nn.Linear(n_hidden_neurons, 10)\n",
        "\n",
        "  def forward(self, x):\n",
        "    x = self.fc1(x)\n",
        "    x = self.act1(x)\n",
        "    x = self.fc2(x)\n",
        "    return x\n",
        "\n",
        "mnist_net = MNISTNet(100)"
      ],
      "metadata": {
        "id": "4VgfdoeR-E7e"
      },
      "execution_count": null,
      "outputs": []
    },
    {
      "cell_type": "code",
      "source": [
        "torch.cuda.is_available()"
      ],
      "metadata": {
        "colab": {
          "base_uri": "https://localhost:8080/"
        },
        "id": "9n-XB1nlBj6j",
        "outputId": "bb862707-6366-4e34-aeb0-b19963ee6c06"
      },
      "execution_count": null,
      "outputs": [
        {
          "output_type": "execute_result",
          "data": {
            "text/plain": [
              "True"
            ]
          },
          "metadata": {},
          "execution_count": 36
        }
      ]
    },
    {
      "cell_type": "code",
      "source": [
        "!nvidia-smi"
      ],
      "metadata": {
        "colab": {
          "base_uri": "https://localhost:8080/"
        },
        "id": "PH87Db9eBqT7",
        "outputId": "bad5ff59-05f3-433b-e4cf-db8c641b7ac8"
      },
      "execution_count": null,
      "outputs": [
        {
          "output_type": "stream",
          "name": "stdout",
          "text": [
            "Tue Oct 17 05:15:20 2023       \n",
            "+-----------------------------------------------------------------------------+\n",
            "| NVIDIA-SMI 525.105.17   Driver Version: 525.105.17   CUDA Version: 12.0     |\n",
            "|-------------------------------+----------------------+----------------------+\n",
            "| GPU  Name        Persistence-M| Bus-Id        Disp.A | Volatile Uncorr. ECC |\n",
            "| Fan  Temp  Perf  Pwr:Usage/Cap|         Memory-Usage | GPU-Util  Compute M. |\n",
            "|                               |                      |               MIG M. |\n",
            "|===============================+======================+======================|\n",
            "|   0  Tesla T4            Off  | 00000000:00:04.0 Off |                    0 |\n",
            "| N/A   76C    P0    30W /  70W |    875MiB / 15360MiB |      0%      Default |\n",
            "|                               |                      |                  N/A |\n",
            "+-------------------------------+----------------------+----------------------+\n",
            "                                                                               \n",
            "+-----------------------------------------------------------------------------+\n",
            "| Processes:                                                                  |\n",
            "|  GPU   GI   CI        PID   Type   Process name                  GPU Memory |\n",
            "|        ID   ID                                                   Usage      |\n",
            "|=============================================================================|\n",
            "+-----------------------------------------------------------------------------+\n"
          ]
        }
      ]
    },
    {
      "cell_type": "code",
      "source": [
        "device = torch.device('cuda:0' if torch.cuda.is_available() else 'cpu')\n",
        "mnist_net = mnist_net.to(device)\n",
        "list(mnist_net.parameters())"
      ],
      "metadata": {
        "colab": {
          "base_uri": "https://localhost:8080/"
        },
        "id": "8iWFOWX6B0Ud",
        "outputId": "4f1ebcd3-07fa-4f76-af1b-92d50aaade47"
      },
      "execution_count": null,
      "outputs": [
        {
          "output_type": "execute_result",
          "data": {
            "text/plain": [
              "[Parameter containing:\n",
              " tensor([[-0.0254,  0.0228,  0.0056,  ..., -0.0114, -0.0035,  0.0225],\n",
              "         [ 0.0172, -0.0139,  0.0192,  ..., -0.0083,  0.0045, -0.0206],\n",
              "         [-0.0070, -0.0057, -0.0128,  ...,  0.0213, -0.0036, -0.0149],\n",
              "         ...,\n",
              "         [-0.0313, -0.0216, -0.0193,  ...,  0.0117, -0.0023,  0.0258],\n",
              "         [-0.0287,  0.0331,  0.0078,  ..., -0.0292,  0.0341,  0.0044],\n",
              "         [-0.0283,  0.0104, -0.0145,  ..., -0.0129,  0.0160, -0.0128]],\n",
              "        device='cuda:0', requires_grad=True),\n",
              " Parameter containing:\n",
              " tensor([ 1.7559e-02, -4.3088e-03,  5.8947e-04, -1.5237e-02, -5.7202e-03,\n",
              "          2.0320e-02, -2.6771e-02,  1.5046e-03, -3.6740e-03,  2.7314e-02,\n",
              "         -3.5267e-02,  1.6202e-03,  2.5047e-03,  2.3932e-02,  1.5547e-02,\n",
              "          2.2168e-03,  1.7947e-02, -8.8012e-03,  9.5497e-03, -2.1096e-02,\n",
              "          3.3168e-02, -3.3898e-02, -6.6754e-03,  1.5277e-02, -1.8927e-03,\n",
              "         -1.6423e-02,  1.8165e-02, -8.7630e-04,  3.4078e-02, -7.3070e-03,\n",
              "          1.0132e-02,  1.0963e-02,  1.8036e-02, -3.3712e-02, -4.1291e-03,\n",
              "          2.2478e-03, -3.6169e-03, -2.4011e-02, -2.9350e-02,  2.2211e-02,\n",
              "         -1.0188e-02, -2.3989e-03,  1.3593e-02, -4.9146e-03,  2.1523e-02,\n",
              "         -8.6875e-03, -1.1703e-02, -3.0985e-02, -2.3379e-02,  1.0262e-02,\n",
              "          3.0610e-02,  1.9907e-02, -3.0151e-02, -1.2537e-02, -2.3238e-02,\n",
              "         -2.3294e-02,  3.2391e-02, -1.0229e-02,  9.4846e-03, -2.4759e-02,\n",
              "          3.3086e-02,  3.3500e-02, -2.1499e-02, -3.3770e-02,  2.5285e-02,\n",
              "          2.9047e-02,  3.5696e-02,  1.1217e-02, -8.5635e-03, -2.1352e-03,\n",
              "         -9.1638e-05, -1.7610e-02,  2.5382e-02, -1.8584e-02,  2.6364e-03,\n",
              "         -9.7063e-03, -3.0952e-02,  1.7323e-02,  1.4195e-02,  1.5914e-02,\n",
              "         -9.8882e-03, -9.1614e-03, -5.7297e-03,  3.5545e-02,  8.0114e-03,\n",
              "          1.5060e-02,  2.0098e-02, -3.5023e-02,  2.0942e-02, -2.9391e-02,\n",
              "          2.2034e-02,  3.0194e-02,  1.4434e-02, -2.2037e-02, -1.7270e-02,\n",
              "          1.5914e-03,  2.6807e-02,  8.6020e-03,  1.1363e-02,  9.5187e-03],\n",
              "        device='cuda:0', requires_grad=True),\n",
              " Parameter containing:\n",
              " tensor([[-9.6947e-02,  4.4907e-02, -2.1300e-02,  8.3663e-02, -1.2816e-02,\n",
              "          -6.4978e-02,  9.8072e-02, -9.6648e-02, -5.4398e-02,  5.6144e-02,\n",
              "           7.9627e-02,  8.3625e-02, -9.3150e-05,  1.6346e-03,  5.1001e-02,\n",
              "           6.9943e-02, -6.3047e-02, -1.5694e-02, -8.2250e-03,  4.7196e-02,\n",
              "           6.0852e-02,  8.3028e-02,  4.3279e-02,  2.9319e-02, -3.9621e-02,\n",
              "          -1.4493e-02,  8.0911e-02,  7.4285e-02, -1.5872e-02, -9.3537e-02,\n",
              "           5.5443e-02, -6.1105e-02, -8.4583e-03, -9.7622e-02, -7.2236e-02,\n",
              "          -8.4078e-02, -4.0953e-02,  4.6931e-02,  4.0762e-02, -4.1825e-02,\n",
              "          -8.8322e-02, -2.7368e-02, -4.7178e-02,  2.7682e-02,  4.6638e-02,\n",
              "           2.3002e-02,  9.6323e-02, -2.4989e-02, -2.1224e-02,  7.6466e-02,\n",
              "           2.2422e-02, -8.9261e-02,  4.9507e-02,  3.8645e-02, -2.1812e-02,\n",
              "           3.3391e-02,  5.7223e-04,  2.4303e-02,  1.5213e-02, -5.1584e-02,\n",
              "           7.9066e-02,  1.9500e-02, -6.4105e-02,  6.4418e-02,  4.3373e-02,\n",
              "           5.0309e-02, -9.0616e-02, -6.4871e-02, -2.8399e-02, -5.6399e-02,\n",
              "           5.6633e-02, -7.1469e-02, -8.8147e-02, -6.7048e-02, -2.6374e-02,\n",
              "           1.2697e-02,  7.8399e-02, -2.9788e-02,  9.6836e-02, -2.5069e-02,\n",
              "           8.8825e-02, -6.9461e-03,  1.6840e-02, -8.3776e-02,  6.2803e-02,\n",
              "          -3.1702e-02,  2.7640e-02,  3.6216e-02,  8.7030e-02, -4.5557e-02,\n",
              "           1.3990e-02,  8.9994e-02, -4.2771e-02, -6.7579e-02,  5.1478e-02,\n",
              "           9.2369e-02, -5.7757e-02,  3.7376e-02,  1.2236e-02,  5.7852e-02],\n",
              "         [ 4.8190e-02,  3.6855e-02, -6.5100e-02, -7.9643e-02,  9.4125e-02,\n",
              "           1.0688e-02, -1.1658e-02,  8.2994e-03, -2.7775e-02,  7.1841e-02,\n",
              "           4.1790e-02,  3.7173e-02, -1.4862e-02,  4.0972e-02, -8.0401e-02,\n",
              "          -8.8513e-02, -8.2235e-02,  7.9334e-02,  8.3426e-02,  1.7335e-02,\n",
              "           5.6631e-02, -8.0410e-02,  8.9413e-02, -3.6720e-02, -8.6622e-02,\n",
              "           8.2016e-02,  3.7562e-02, -9.4097e-02, -9.9208e-03, -4.3255e-02,\n",
              "          -5.0378e-02,  7.0775e-02, -4.5476e-02, -6.1205e-02,  7.7806e-02,\n",
              "          -6.0282e-02,  3.5217e-02,  9.5407e-02,  5.4166e-02, -7.4447e-02,\n",
              "           5.1771e-02,  9.4042e-02, -5.6882e-02, -9.3270e-02, -4.0584e-02,\n",
              "          -7.1395e-03,  2.2945e-02,  5.5855e-02,  7.5956e-02,  5.7281e-02,\n",
              "          -4.3516e-02,  5.7691e-02, -3.0171e-03,  7.3361e-02, -3.7126e-02,\n",
              "           2.8493e-03, -1.4536e-02,  8.5457e-02, -7.3027e-02, -9.0635e-02,\n",
              "          -8.0322e-02, -9.8185e-02,  1.2718e-02,  5.3564e-02, -8.1876e-02,\n",
              "          -6.2307e-02, -5.6541e-03, -6.5980e-02,  8.6307e-02, -9.8996e-02,\n",
              "          -1.7686e-02, -8.8717e-02,  3.8292e-02,  5.0365e-02, -2.7857e-02,\n",
              "           6.3644e-02, -5.2325e-02,  7.5176e-02,  1.3000e-03, -5.5316e-02,\n",
              "           7.7106e-02,  2.2021e-02,  6.5099e-02,  1.1189e-02, -6.0094e-02,\n",
              "          -6.3982e-02,  2.1669e-02, -8.8598e-02,  8.6545e-02, -6.2144e-02,\n",
              "          -2.8796e-02, -8.5617e-02, -8.2301e-02,  3.1093e-02,  6.0496e-02,\n",
              "           8.5379e-02, -1.5587e-02, -1.0327e-02, -6.8350e-04,  8.4504e-02],\n",
              "         [-8.8917e-02, -3.2369e-02, -9.9087e-02,  6.8715e-02,  4.1663e-02,\n",
              "           2.6715e-02, -5.1179e-02, -2.2300e-02,  8.4275e-03, -8.0100e-02,\n",
              "          -7.3903e-02, -2.8521e-02, -7.9615e-02,  3.1562e-02, -9.0930e-02,\n",
              "          -4.9245e-03,  4.4147e-02,  2.5641e-02,  7.2732e-02, -4.7868e-02,\n",
              "          -5.3555e-02, -9.1464e-02,  9.4371e-02,  5.1059e-02,  9.7880e-02,\n",
              "           5.8586e-02,  4.9460e-02,  9.0100e-02, -5.5009e-02, -8.2760e-02,\n",
              "           4.6211e-02, -8.7223e-02, -1.1052e-02, -2.9506e-02,  3.1204e-02,\n",
              "           6.6257e-02, -9.9945e-02,  8.6365e-02,  8.3983e-02, -8.2125e-02,\n",
              "           3.1480e-03, -8.7512e-02, -2.3745e-02, -2.3013e-02, -9.7820e-02,\n",
              "          -9.5557e-02, -6.9994e-02, -7.1758e-02, -7.7791e-02,  9.7706e-02,\n",
              "           5.5055e-02, -9.4020e-02, -5.6761e-02, -2.5010e-02,  2.7997e-02,\n",
              "           6.6931e-02, -9.6249e-02,  6.9087e-02,  7.3280e-02, -2.1077e-02,\n",
              "           1.0288e-02, -4.3733e-02, -2.0353e-02, -8.4295e-02, -3.2805e-02,\n",
              "           1.6429e-02,  7.5064e-02, -7.0275e-02,  6.2858e-02,  3.1020e-02,\n",
              "          -2.3032e-02, -4.4466e-02, -9.0240e-02,  7.1379e-02,  5.5675e-02,\n",
              "          -2.4298e-02,  7.5709e-02, -5.0238e-02,  4.0886e-03,  3.0077e-02,\n",
              "           6.0259e-02, -5.8787e-02,  5.6377e-02,  6.3126e-02,  7.4503e-02,\n",
              "          -6.2190e-02, -2.5939e-02, -2.9694e-04,  4.1779e-02, -2.5573e-02,\n",
              "           1.5045e-02, -9.2956e-02,  6.2772e-02,  5.6892e-02, -1.8972e-02,\n",
              "          -9.4847e-02,  8.3091e-02,  5.5868e-02,  4.9604e-02, -6.6039e-02],\n",
              "         [-4.3472e-02,  4.7547e-02, -1.7617e-02, -5.5020e-02,  4.3618e-02,\n",
              "          -8.7742e-02,  5.6062e-02,  9.5767e-02,  9.9840e-02,  2.3009e-02,\n",
              "          -4.4606e-02,  4.6759e-02, -3.5118e-02, -9.9018e-02,  3.2479e-02,\n",
              "          -5.4994e-02,  1.7744e-02, -3.5619e-02,  4.5493e-03, -2.5714e-02,\n",
              "           5.5626e-02,  6.2616e-02,  5.8650e-02,  5.1005e-02,  2.1699e-03,\n",
              "           4.3979e-02,  1.7819e-02, -6.3280e-02,  5.5845e-03, -2.6255e-02,\n",
              "          -7.8505e-02, -6.7979e-02,  2.9234e-02,  7.1440e-02, -1.6157e-02,\n",
              "          -9.6684e-02,  3.4275e-02, -2.9659e-02,  5.2475e-02, -7.3097e-02,\n",
              "           3.0554e-02,  1.3110e-02, -8.5391e-03,  5.5037e-02,  3.4329e-02,\n",
              "           4.1990e-02, -8.3113e-02,  7.7673e-02, -7.6433e-02, -1.0936e-02,\n",
              "           7.3582e-02, -4.3314e-02, -8.7773e-03, -2.3912e-02,  1.9573e-02,\n",
              "           5.4098e-02,  1.3875e-02, -3.3733e-02, -2.7188e-02, -7.4430e-02,\n",
              "          -9.0659e-02,  1.2250e-02,  2.5686e-02, -2.3234e-02,  8.1588e-02,\n",
              "          -7.6814e-02, -3.0557e-03, -5.6811e-02, -7.4628e-02,  7.0117e-02,\n",
              "           8.2585e-02,  5.2179e-02, -9.6594e-02,  6.9686e-03, -6.8579e-03,\n",
              "          -1.0786e-02,  5.5698e-02, -4.9141e-02,  5.5512e-02,  6.4685e-02,\n",
              "          -3.4695e-02, -6.3688e-02,  2.6190e-02,  2.5410e-02,  8.3603e-02,\n",
              "           8.2427e-02,  7.7205e-02, -6.5184e-02, -3.2771e-02, -2.6348e-02,\n",
              "          -7.7214e-02, -2.5392e-02,  6.5097e-02,  4.7672e-02,  1.5647e-02,\n",
              "           8.3692e-02,  7.3861e-02,  1.6967e-03,  2.5221e-02, -8.8595e-02],\n",
              "         [-2.9269e-03,  8.1616e-02, -6.2173e-02,  6.3755e-02, -1.1021e-02,\n",
              "           8.1408e-02, -4.9329e-02, -3.3907e-02,  3.8990e-02, -7.7365e-02,\n",
              "           3.3096e-02,  2.9158e-02, -8.4882e-02,  6.3867e-02,  1.8601e-02,\n",
              "          -9.7955e-02,  1.1932e-02,  2.0293e-02, -9.7325e-02, -9.5659e-02,\n",
              "           2.0235e-02, -3.8874e-05, -4.2726e-02, -7.3209e-02,  4.1691e-02,\n",
              "          -8.7675e-02, -7.3314e-02, -4.9730e-02, -4.1501e-02,  2.4281e-02,\n",
              "           2.8056e-03,  7.4828e-02, -7.3381e-02, -1.6675e-02,  4.2088e-02,\n",
              "           1.6426e-02, -8.5525e-02, -6.2493e-03, -3.5037e-02, -1.9831e-02,\n",
              "          -6.3556e-02, -3.1337e-02, -4.7677e-02, -2.8217e-02, -1.8576e-02,\n",
              "          -1.9250e-02,  7.5739e-02,  6.9490e-02,  6.5448e-03,  8.7497e-02,\n",
              "           3.5352e-03,  7.9664e-02,  3.3895e-02,  2.9997e-02, -8.1631e-02,\n",
              "           1.8124e-02,  1.8399e-02, -9.0883e-02, -3.2956e-02,  5.9237e-02,\n",
              "          -2.6427e-02,  9.0195e-02, -2.5360e-02, -6.9266e-02,  8.9083e-02,\n",
              "           8.6720e-02, -7.0573e-02, -8.5685e-03, -3.3708e-02, -1.9638e-02,\n",
              "          -5.2294e-02, -5.2186e-02,  5.0718e-02,  8.8490e-02,  7.0033e-02,\n",
              "          -5.8308e-02, -1.8741e-02, -8.0265e-02, -2.9162e-02, -3.0870e-02,\n",
              "          -7.6323e-03, -4.7004e-03, -6.4697e-02, -1.5323e-02,  1.0354e-02,\n",
              "           2.9495e-02,  9.6357e-02, -5.9389e-02,  5.2672e-02,  8.5463e-02,\n",
              "          -8.7062e-03,  4.8081e-02,  1.8797e-02, -6.9148e-02, -8.2697e-02,\n",
              "           3.8925e-02, -8.6334e-02, -4.5603e-02,  3.0692e-02, -2.3851e-02],\n",
              "         [ 8.5801e-02, -3.3593e-02,  9.3015e-02, -4.7778e-02, -7.8177e-03,\n",
              "           5.7110e-02,  9.7119e-03,  8.8210e-03, -4.7950e-02, -8.6817e-02,\n",
              "          -7.2102e-02, -3.7059e-02, -6.9656e-02, -6.5992e-02,  9.2659e-02,\n",
              "          -7.4226e-02,  9.2775e-02,  5.8502e-02, -1.8488e-02,  2.0160e-03,\n",
              "           6.8892e-02, -7.7875e-02,  2.7383e-02, -9.7162e-02, -7.1996e-02,\n",
              "           8.7175e-02, -2.2011e-02, -5.5753e-02, -2.2714e-02, -7.7816e-02,\n",
              "           4.6029e-02, -6.6790e-03, -2.0712e-02,  2.1587e-02,  8.4797e-03,\n",
              "           1.3136e-02,  5.3811e-02, -3.1488e-02,  9.1069e-02,  3.0927e-02,\n",
              "           5.7621e-02, -4.1617e-02, -6.2901e-02, -6.8122e-02, -2.7847e-03,\n",
              "          -3.3492e-02, -9.1327e-02,  5.9313e-02,  8.3232e-02,  9.4577e-02,\n",
              "          -1.4718e-02, -5.2727e-02,  6.5107e-02,  4.8771e-02,  2.4899e-02,\n",
              "          -5.0695e-02, -2.1552e-02,  8.3455e-02,  2.9951e-02, -1.1405e-02,\n",
              "          -6.2119e-02, -8.0952e-02, -2.3182e-03, -9.5419e-02,  6.7931e-02,\n",
              "          -1.5430e-02,  4.7810e-02,  1.2407e-02,  1.4514e-02,  3.9247e-04,\n",
              "          -6.6613e-02, -5.4655e-02,  3.8444e-03,  7.3558e-02,  7.9347e-02,\n",
              "           8.3249e-02, -7.2987e-02, -3.6945e-02, -6.0546e-02,  1.2855e-02,\n",
              "           9.6695e-02,  8.4104e-03, -9.4742e-02,  5.0537e-02,  2.5075e-02,\n",
              "           2.8689e-02,  9.0296e-02, -4.8375e-02,  2.2484e-02, -3.6055e-02,\n",
              "           7.2518e-03,  2.7088e-02,  7.3904e-02,  4.3469e-02, -4.7974e-02,\n",
              "          -5.8881e-02, -3.0710e-02, -9.2186e-02, -6.1406e-03, -8.6526e-02],\n",
              "         [-5.9471e-02,  3.9373e-02, -2.4026e-02, -6.6978e-02,  6.2809e-02,\n",
              "          -9.5239e-02,  1.8018e-02, -7.5662e-02, -6.5119e-02, -4.2727e-04,\n",
              "          -9.4614e-02,  7.6230e-02,  1.8084e-02, -4.7525e-02, -5.9819e-02,\n",
              "           9.2356e-02,  5.7393e-02,  5.3763e-03, -7.1575e-02,  8.9039e-02,\n",
              "          -2.2594e-02, -6.6491e-02,  2.9034e-02, -6.7023e-02,  6.3204e-02,\n",
              "           7.9708e-02,  4.9800e-02,  2.8676e-02, -8.5452e-02,  8.0550e-03,\n",
              "          -7.1756e-02, -4.1581e-02, -6.7175e-03,  1.8097e-02,  4.1551e-02,\n",
              "           1.6692e-02,  6.6999e-02, -6.7696e-03,  1.5126e-02, -8.3951e-02,\n",
              "          -2.3017e-02,  8.5187e-02, -6.7541e-02, -8.8164e-02, -6.1015e-03,\n",
              "          -9.2277e-02, -8.6292e-02, -7.2923e-02,  8.1141e-02,  8.4094e-02,\n",
              "          -7.6738e-02, -6.0715e-02, -2.5177e-02,  2.4277e-02,  5.7785e-02,\n",
              "           8.4368e-02, -4.4956e-02,  9.0198e-03, -2.8063e-02,  8.0764e-02,\n",
              "          -3.2529e-02,  7.0528e-02,  2.6298e-02,  3.5022e-02,  4.3180e-02,\n",
              "           9.5026e-02, -8.4465e-02,  7.9145e-02,  7.4569e-02,  9.8822e-02,\n",
              "          -9.6167e-02, -8.7682e-02, -8.4306e-02,  5.5355e-02,  5.6485e-02,\n",
              "          -2.1013e-02,  9.9957e-03, -1.6510e-02,  7.7884e-02,  4.4807e-02,\n",
              "          -6.5265e-03,  4.9879e-02, -4.0432e-02, -6.0570e-03,  9.7912e-02,\n",
              "           9.7387e-02, -3.3712e-02,  6.6877e-03, -9.8711e-03,  6.8120e-02,\n",
              "           6.4010e-02,  3.2229e-03, -3.1581e-02, -4.6164e-02, -8.8791e-02,\n",
              "          -5.4534e-02, -7.8371e-02,  1.9074e-02,  1.6136e-02,  2.9644e-02],\n",
              "         [ 5.6581e-02,  9.8713e-02,  7.8686e-02,  3.2842e-02,  3.8476e-02,\n",
              "          -9.1295e-02, -5.8306e-02, -2.6638e-02,  6.9343e-02, -9.8256e-02,\n",
              "           3.8062e-03, -4.5055e-02,  4.7474e-02, -6.9117e-02,  6.3917e-02,\n",
              "          -2.2784e-02,  6.9839e-02,  2.3977e-02, -3.6640e-02, -2.7342e-02,\n",
              "           8.3157e-02,  4.8779e-02,  9.8873e-02, -8.9834e-02,  3.9055e-02,\n",
              "          -8.9114e-02, -6.1995e-02,  3.2246e-02,  2.2981e-02,  7.8381e-03,\n",
              "          -5.2465e-02, -5.2918e-02, -6.2988e-02, -6.8449e-02, -2.6792e-02,\n",
              "          -5.5853e-02,  4.6013e-02,  9.5941e-02,  5.3529e-02, -3.0239e-02,\n",
              "          -3.9831e-02,  9.5635e-02, -4.8856e-02,  4.5975e-02,  4.6996e-02,\n",
              "           7.1958e-02, -8.9837e-02,  1.9438e-02,  7.2452e-02, -3.3032e-02,\n",
              "           2.5842e-02, -2.5584e-02,  1.9763e-02,  2.7568e-02,  3.2691e-02,\n",
              "          -1.5339e-02,  1.7695e-02,  6.6149e-02,  4.1402e-02,  3.6294e-02,\n",
              "           1.1827e-02, -5.0443e-02,  8.6783e-03,  4.0258e-02,  3.9122e-02,\n",
              "          -3.0433e-02,  1.4083e-02, -7.0522e-02,  8.0271e-02,  2.0699e-02,\n",
              "           1.3306e-02, -2.7370e-02,  4.1917e-02, -1.1707e-02,  8.3784e-02,\n",
              "          -3.0935e-02, -6.7504e-02,  6.2077e-03,  5.8192e-03,  8.8549e-02,\n",
              "          -4.9274e-02,  1.4901e-02, -9.2890e-02, -8.0439e-02, -2.4416e-02,\n",
              "           6.7426e-02,  2.9461e-02, -8.7263e-02, -6.8885e-03, -9.6774e-02,\n",
              "           5.8388e-03, -8.7906e-02, -6.9854e-02, -5.3955e-02, -5.1238e-02,\n",
              "          -9.2082e-02,  8.8588e-02, -2.4492e-02,  7.9664e-02,  4.1181e-02],\n",
              "         [-3.5046e-02,  5.5280e-02,  7.3364e-02,  5.1096e-02,  8.4901e-02,\n",
              "          -6.5766e-02,  2.4190e-02,  1.3342e-02,  6.4916e-02,  7.0922e-02,\n",
              "          -9.6991e-02, -2.6518e-02,  1.4467e-02, -2.0325e-02, -8.6125e-02,\n",
              "          -3.0148e-02, -5.6967e-02, -7.8802e-02, -1.4979e-02,  5.2260e-02,\n",
              "          -6.7832e-02,  1.2261e-02,  1.8428e-02,  5.5498e-03, -4.4235e-02,\n",
              "          -4.2784e-02, -6.1110e-03, -5.0303e-02, -6.5017e-02,  2.6384e-02,\n",
              "          -7.1224e-02, -8.0780e-02, -1.7437e-02, -9.8211e-02,  4.0267e-02,\n",
              "          -9.1051e-02, -9.0339e-02, -7.9349e-04, -4.0741e-02,  5.0537e-03,\n",
              "          -6.4220e-02, -8.4146e-02, -7.4446e-02,  8.6867e-02, -1.0342e-02,\n",
              "          -8.9398e-02, -9.7442e-02,  6.5190e-02, -3.7878e-02, -6.3461e-02,\n",
              "           8.9479e-02, -9.6067e-02, -7.9497e-02,  5.3785e-02,  7.5943e-02,\n",
              "          -3.0879e-02, -2.9622e-02,  3.0338e-02,  1.0609e-02, -6.8748e-02,\n",
              "          -3.9230e-02, -7.0551e-02, -9.6649e-03, -7.5379e-02, -8.1633e-02,\n",
              "           3.0549e-02,  8.8819e-02,  7.2758e-02,  8.8222e-02,  9.5634e-02,\n",
              "           4.3984e-02, -6.4431e-02, -4.2984e-02,  5.3660e-02, -9.2624e-02,\n",
              "           3.6451e-02, -8.7086e-02, -5.6406e-02, -2.8472e-02, -3.4699e-02,\n",
              "           3.6716e-02, -5.3402e-02,  9.2437e-02,  8.1656e-02,  6.2778e-02,\n",
              "          -3.6031e-03,  8.1282e-02,  9.8763e-02, -1.8956e-02,  9.7978e-02,\n",
              "          -4.6229e-02,  6.7149e-02,  7.5383e-03,  7.6221e-02,  4.0750e-02,\n",
              "           2.2371e-02,  4.0622e-02,  1.5702e-02,  4.2635e-02,  9.2094e-02],\n",
              "         [ 7.3026e-02, -9.6550e-02,  4.0604e-02, -8.0647e-02, -2.8048e-02,\n",
              "           4.1685e-02, -8.8114e-02, -9.2197e-02, -3.4107e-02, -2.3147e-02,\n",
              "          -1.1337e-02, -2.2622e-02,  5.8458e-02, -5.9816e-02, -2.9862e-02,\n",
              "           1.8184e-02, -2.8532e-02, -9.4106e-02,  1.3397e-02,  7.7214e-02,\n",
              "          -5.5541e-02, -7.0547e-02, -8.3464e-02,  6.0887e-02, -5.7564e-02,\n",
              "          -7.9661e-03,  7.7368e-02, -3.7743e-02, -3.8439e-02, -8.6335e-02,\n",
              "           7.4117e-02,  9.2328e-05,  8.5510e-02,  6.3876e-02, -9.4977e-02,\n",
              "           2.0548e-02, -6.1107e-03, -5.7064e-02,  9.5924e-02, -9.8694e-02,\n",
              "           1.4340e-02,  8.0648e-02,  6.3325e-02, -2.3833e-02,  1.7206e-02,\n",
              "           5.5053e-02,  7.5116e-02,  5.7248e-02, -7.9784e-02, -3.0986e-02,\n",
              "           2.5653e-02, -4.0627e-02,  6.7183e-02, -3.9297e-02,  5.1030e-02,\n",
              "          -5.7057e-02,  6.6104e-02, -4.7006e-02,  8.1186e-02,  1.9317e-02,\n",
              "           1.7961e-02, -3.7823e-02, -1.5858e-02,  8.9113e-02,  1.0406e-02,\n",
              "           6.3510e-02,  5.4257e-02,  6.2530e-02, -1.0808e-03, -8.2904e-02,\n",
              "          -2.4468e-02, -6.2809e-02,  8.7026e-02,  8.5243e-02,  4.3602e-02,\n",
              "           3.2031e-02,  1.1703e-02,  3.7609e-02, -6.8191e-02, -1.0167e-02,\n",
              "           6.6308e-02, -6.3607e-02,  9.1445e-02, -6.3970e-02, -5.7440e-02,\n",
              "           9.1842e-02,  4.4196e-02,  6.8083e-02,  1.3015e-02,  6.3241e-02,\n",
              "          -1.5000e-02,  4.0072e-02,  1.5820e-02, -6.6095e-02, -4.3194e-02,\n",
              "          -2.5666e-02, -7.5074e-02, -7.7956e-02, -5.1442e-02, -9.0564e-02]],\n",
              "        device='cuda:0', requires_grad=True),\n",
              " Parameter containing:\n",
              " tensor([-0.0792, -0.0229, -0.0169,  0.0069,  0.0215, -0.0632,  0.0343, -0.0546,\n",
              "         -0.0483,  0.0385], device='cuda:0', requires_grad=True)]"
            ]
          },
          "metadata": {},
          "execution_count": 37
        }
      ]
    },
    {
      "cell_type": "code",
      "source": [
        "loss = torch.nn.CrossEntropyLoss()\n",
        "optimizer = torch.optim.Adam(mnist_net.parameters(), lr=1.0e-3)"
      ],
      "metadata": {
        "id": "ekRfqK0d-gWs"
      },
      "execution_count": null,
      "outputs": []
    },
    {
      "cell_type": "code",
      "source": [
        "batch_size = 100\n",
        "\n",
        "test_accuracy_history = []\n",
        "test_loss_history = []\n",
        "\n",
        "X_test = X_test.to(device)\n",
        "y_test = y_test.to(device)\n",
        "\n",
        "for epoch in range(10000):\n",
        "  order = np.random.permutation(len(X_train))\n",
        "  for start_index in range(0, len(X_train), batch_size):\n",
        "    optimizer.zero_grad()\n",
        "\n",
        "    batch_indexes = order[start_index:start_index+batch_size]\n",
        "\n",
        "    x_batch = X_train[batch_indexes].to(device)\n",
        "    y_batch = y_train[batch_indexes].to(device)\n",
        "\n",
        "    preds = mnist_net.forward(x_batch)\n",
        "\n",
        "    loss_val = loss(preds, y_batch)\n",
        "    loss_val.backward()\n",
        "\n",
        "    optimizer.step()\n",
        "\n",
        "  test_preds = mnist_net.forward(X_test)\n",
        "  test_loss_history.append(loss(test_preds, y_test).cpu().detach().numpy())\n",
        "\n",
        "  accuracy = (test_preds.argmax(dim=1) == y_test).float().mean()\n",
        "  test_accuracy_history.append(accuracy.cpu())\n",
        "  print(accuracy)"
      ],
      "metadata": {
        "colab": {
          "base_uri": "https://localhost:8080/",
          "height": 964
        },
        "id": "VH6_NF8P_COm",
        "outputId": "8831fb9e-98de-4445-a196-f6c30bf96485"
      },
      "execution_count": null,
      "outputs": [
        {
          "output_type": "stream",
          "name": "stdout",
          "text": [
            "tensor(0.9096, device='cuda:0')\n",
            "tensor(0.9139, device='cuda:0')\n",
            "tensor(0.9197, device='cuda:0')\n",
            "tensor(0.9244, device='cuda:0')\n",
            "tensor(0.9252, device='cuda:0')\n",
            "tensor(0.9265, device='cuda:0')\n",
            "tensor(0.9293, device='cuda:0')\n",
            "tensor(0.9282, device='cuda:0')\n",
            "tensor(0.9313, device='cuda:0')\n",
            "tensor(0.9363, device='cuda:0')\n",
            "tensor(0.9298, device='cuda:0')\n",
            "tensor(0.9341, device='cuda:0')\n",
            "tensor(0.9329, device='cuda:0')\n",
            "tensor(0.9348, device='cuda:0')\n",
            "tensor(0.9348, device='cuda:0')\n",
            "tensor(0.9370, device='cuda:0')\n",
            "tensor(0.9326, device='cuda:0')\n",
            "tensor(0.9410, device='cuda:0')\n",
            "tensor(0.9403, device='cuda:0')\n",
            "tensor(0.9420, device='cuda:0')\n",
            "tensor(0.9382, device='cuda:0')\n",
            "tensor(0.9385, device='cuda:0')\n",
            "tensor(0.9441, device='cuda:0')\n",
            "tensor(0.9402, device='cuda:0')\n",
            "tensor(0.9423, device='cuda:0')\n",
            "tensor(0.9422, device='cuda:0')\n",
            "tensor(0.9458, device='cuda:0')\n",
            "tensor(0.9465, device='cuda:0')\n",
            "tensor(0.9474, device='cuda:0')\n",
            "tensor(0.9454, device='cuda:0')\n",
            "tensor(0.9474, device='cuda:0')\n",
            "tensor(0.9459, device='cuda:0')\n",
            "tensor(0.9477, device='cuda:0')\n"
          ]
        },
        {
          "output_type": "error",
          "ename": "KeyboardInterrupt",
          "evalue": "ignored",
          "traceback": [
            "\u001b[0;31m---------------------------------------------------------------------------\u001b[0m",
            "\u001b[0;31mKeyboardInterrupt\u001b[0m                         Traceback (most recent call last)",
            "\u001b[0;32m<ipython-input-39-16c7731fea53>\u001b[0m in \u001b[0;36m<cell line: 9>\u001b[0;34m()\u001b[0m\n\u001b[1;32m     17\u001b[0m     \u001b[0my_batch\u001b[0m \u001b[0;34m=\u001b[0m \u001b[0my_train\u001b[0m\u001b[0;34m[\u001b[0m\u001b[0mbatch_indexes\u001b[0m\u001b[0;34m]\u001b[0m\u001b[0;34m.\u001b[0m\u001b[0mto\u001b[0m\u001b[0;34m(\u001b[0m\u001b[0mdevice\u001b[0m\u001b[0;34m)\u001b[0m\u001b[0;34m\u001b[0m\u001b[0;34m\u001b[0m\u001b[0m\n\u001b[1;32m     18\u001b[0m \u001b[0;34m\u001b[0m\u001b[0m\n\u001b[0;32m---> 19\u001b[0;31m     \u001b[0mpreds\u001b[0m \u001b[0;34m=\u001b[0m \u001b[0mmnist_net\u001b[0m\u001b[0;34m.\u001b[0m\u001b[0mforward\u001b[0m\u001b[0;34m(\u001b[0m\u001b[0mx_batch\u001b[0m\u001b[0;34m)\u001b[0m\u001b[0;34m\u001b[0m\u001b[0;34m\u001b[0m\u001b[0m\n\u001b[0m\u001b[1;32m     20\u001b[0m \u001b[0;34m\u001b[0m\u001b[0m\n\u001b[1;32m     21\u001b[0m     \u001b[0mloss_val\u001b[0m \u001b[0;34m=\u001b[0m \u001b[0mloss\u001b[0m\u001b[0;34m(\u001b[0m\u001b[0mpreds\u001b[0m\u001b[0;34m,\u001b[0m \u001b[0my_batch\u001b[0m\u001b[0;34m)\u001b[0m\u001b[0;34m\u001b[0m\u001b[0;34m\u001b[0m\u001b[0m\n",
            "\u001b[0;32m<ipython-input-35-49c195d552f1>\u001b[0m in \u001b[0;36mforward\u001b[0;34m(self, x)\u001b[0m\n\u001b[1;32m      8\u001b[0m \u001b[0;34m\u001b[0m\u001b[0m\n\u001b[1;32m      9\u001b[0m   \u001b[0;32mdef\u001b[0m \u001b[0mforward\u001b[0m\u001b[0;34m(\u001b[0m\u001b[0mself\u001b[0m\u001b[0;34m,\u001b[0m \u001b[0mx\u001b[0m\u001b[0;34m)\u001b[0m\u001b[0;34m:\u001b[0m\u001b[0;34m\u001b[0m\u001b[0;34m\u001b[0m\u001b[0m\n\u001b[0;32m---> 10\u001b[0;31m     \u001b[0mx\u001b[0m \u001b[0;34m=\u001b[0m \u001b[0mself\u001b[0m\u001b[0;34m.\u001b[0m\u001b[0mfc1\u001b[0m\u001b[0;34m(\u001b[0m\u001b[0mx\u001b[0m\u001b[0;34m)\u001b[0m\u001b[0;34m\u001b[0m\u001b[0;34m\u001b[0m\u001b[0m\n\u001b[0m\u001b[1;32m     11\u001b[0m     \u001b[0mx\u001b[0m \u001b[0;34m=\u001b[0m \u001b[0mself\u001b[0m\u001b[0;34m.\u001b[0m\u001b[0mact1\u001b[0m\u001b[0;34m(\u001b[0m\u001b[0mx\u001b[0m\u001b[0;34m)\u001b[0m\u001b[0;34m\u001b[0m\u001b[0;34m\u001b[0m\u001b[0m\n\u001b[1;32m     12\u001b[0m     \u001b[0mx\u001b[0m \u001b[0;34m=\u001b[0m \u001b[0mself\u001b[0m\u001b[0;34m.\u001b[0m\u001b[0mfc2\u001b[0m\u001b[0;34m(\u001b[0m\u001b[0mx\u001b[0m\u001b[0;34m)\u001b[0m\u001b[0;34m\u001b[0m\u001b[0;34m\u001b[0m\u001b[0m\n",
            "\u001b[0;32m/usr/local/lib/python3.10/dist-packages/torch/nn/modules/module.py\u001b[0m in \u001b[0;36m_call_impl\u001b[0;34m(self, *args, **kwargs)\u001b[0m\n\u001b[1;32m   1499\u001b[0m                 \u001b[0;32mor\u001b[0m \u001b[0m_global_backward_pre_hooks\u001b[0m \u001b[0;32mor\u001b[0m \u001b[0m_global_backward_hooks\u001b[0m\u001b[0;34m\u001b[0m\u001b[0;34m\u001b[0m\u001b[0m\n\u001b[1;32m   1500\u001b[0m                 or _global_forward_hooks or _global_forward_pre_hooks):\n\u001b[0;32m-> 1501\u001b[0;31m             \u001b[0;32mreturn\u001b[0m \u001b[0mforward_call\u001b[0m\u001b[0;34m(\u001b[0m\u001b[0;34m*\u001b[0m\u001b[0margs\u001b[0m\u001b[0;34m,\u001b[0m \u001b[0;34m**\u001b[0m\u001b[0mkwargs\u001b[0m\u001b[0;34m)\u001b[0m\u001b[0;34m\u001b[0m\u001b[0;34m\u001b[0m\u001b[0m\n\u001b[0m\u001b[1;32m   1502\u001b[0m         \u001b[0;31m# Do not call functions when jit is used\u001b[0m\u001b[0;34m\u001b[0m\u001b[0;34m\u001b[0m\u001b[0m\n\u001b[1;32m   1503\u001b[0m         \u001b[0mfull_backward_hooks\u001b[0m\u001b[0;34m,\u001b[0m \u001b[0mnon_full_backward_hooks\u001b[0m \u001b[0;34m=\u001b[0m \u001b[0;34m[\u001b[0m\u001b[0;34m]\u001b[0m\u001b[0;34m,\u001b[0m \u001b[0;34m[\u001b[0m\u001b[0;34m]\u001b[0m\u001b[0;34m\u001b[0m\u001b[0;34m\u001b[0m\u001b[0m\n",
            "\u001b[0;32m/usr/local/lib/python3.10/dist-packages/torch/nn/modules/linear.py\u001b[0m in \u001b[0;36mforward\u001b[0;34m(self, input)\u001b[0m\n\u001b[1;32m    112\u001b[0m \u001b[0;34m\u001b[0m\u001b[0m\n\u001b[1;32m    113\u001b[0m     \u001b[0;32mdef\u001b[0m \u001b[0mforward\u001b[0m\u001b[0;34m(\u001b[0m\u001b[0mself\u001b[0m\u001b[0;34m,\u001b[0m \u001b[0minput\u001b[0m\u001b[0;34m:\u001b[0m \u001b[0mTensor\u001b[0m\u001b[0;34m)\u001b[0m \u001b[0;34m->\u001b[0m \u001b[0mTensor\u001b[0m\u001b[0;34m:\u001b[0m\u001b[0;34m\u001b[0m\u001b[0;34m\u001b[0m\u001b[0m\n\u001b[0;32m--> 114\u001b[0;31m         \u001b[0;32mreturn\u001b[0m \u001b[0mF\u001b[0m\u001b[0;34m.\u001b[0m\u001b[0mlinear\u001b[0m\u001b[0;34m(\u001b[0m\u001b[0minput\u001b[0m\u001b[0;34m,\u001b[0m \u001b[0mself\u001b[0m\u001b[0;34m.\u001b[0m\u001b[0mweight\u001b[0m\u001b[0;34m,\u001b[0m \u001b[0mself\u001b[0m\u001b[0;34m.\u001b[0m\u001b[0mbias\u001b[0m\u001b[0;34m)\u001b[0m\u001b[0;34m\u001b[0m\u001b[0;34m\u001b[0m\u001b[0m\n\u001b[0m\u001b[1;32m    115\u001b[0m \u001b[0;34m\u001b[0m\u001b[0m\n\u001b[1;32m    116\u001b[0m     \u001b[0;32mdef\u001b[0m \u001b[0mextra_repr\u001b[0m\u001b[0;34m(\u001b[0m\u001b[0mself\u001b[0m\u001b[0;34m)\u001b[0m \u001b[0;34m->\u001b[0m \u001b[0mstr\u001b[0m\u001b[0;34m:\u001b[0m\u001b[0;34m\u001b[0m\u001b[0;34m\u001b[0m\u001b[0m\n",
            "\u001b[0;31mKeyboardInterrupt\u001b[0m: "
          ]
        }
      ]
    },
    {
      "cell_type": "code",
      "source": [
        "plt.plot(test_accuracy_history)"
      ],
      "metadata": {
        "colab": {
          "base_uri": "https://localhost:8080/",
          "height": 447
        },
        "id": "gozeCdAREBLW",
        "outputId": "449ba81d-6af3-4ccc-b88d-21f92b91ea96"
      },
      "execution_count": null,
      "outputs": [
        {
          "output_type": "execute_result",
          "data": {
            "text/plain": [
              "[<matplotlib.lines.Line2D at 0x7b47f4fd1bd0>]"
            ]
          },
          "metadata": {},
          "execution_count": 40
        },
        {
          "output_type": "display_data",
          "data": {
            "text/plain": [
              "<Figure size 640x480 with 1 Axes>"
            ],
            "image/png": "[encoded data removed]"
          },
          "metadata": {}
        }
      ]
    },
    {
      "cell_type": "code",
      "source": [
        "plt.plot(test_loss_history)"
      ],
      "metadata": {
        "colab": {
          "base_uri": "https://localhost:8080/",
          "height": 447
        },
        "id": "cKS-S1zHFREo",
        "outputId": "642f3dee-e438-4329-8437-bf637fc1e5df"
      },
      "execution_count": null,
      "outputs": [
        {
          "output_type": "execute_result",
          "data": {
            "text/plain": [
              "[<matplotlib.lines.Line2D at 0x7b47f49a0af0>]"
            ]
          },
          "metadata": {},
          "execution_count": 41
        },
        {
          "output_type": "display_data",
          "data": {
            "text/plain": [
              "<Figure size 640x480 with 1 Axes>"
            ],
            "image/png": "[encoded data removed]"
          },
          "metadata": {}
        }
      ]
    },
    {
      "cell_type": "code",
      "source": [
        "# 4.4\n",
        "x = torch.tensor([[10., 20.]])\n",
        "\n",
        "fc = torch.nn.Linear(2, 3)\n",
        "\n",
        "w = torch.tensor([[11., 12.], [21., 22.], [31., 32]])\n",
        "fc.weight.data = w\n",
        "\n",
        "b = torch.tensor([[31., 32., 33.]])\n",
        "fc.bias.data = b\n",
        "\n",
        "fc_out = fc(x)\n",
        "fc_out_alternative = torch.matmul(x, w.transpose(0, 1)) + b\n",
        "\n",
        "print(fc_out == fc_out_alternative)"
      ],
      "metadata": {
        "colab": {
          "base_uri": "https://localhost:8080/"
        },
        "id": "UYfcWpniGaHR",
        "outputId": "f52f946f-c372-4865-8255-e2c87861f130"
      },
      "execution_count": null,
      "outputs": [
        {
          "output_type": "stream",
          "name": "stdout",
          "text": [
            "tensor([[True, True, True]])\n"
          ]
        }
      ]
    },
    {
      "cell_type": "code",
      "source": [
        "x = torch.tensor([[10., 20.]])\n",
        "\n",
        "fc = torch.nn.Linear(2, 3)\n",
        "\n",
        "w = torch.tensor([[11., 12.], [21., 22.], [31., 32]])\n",
        "fc.weight.data = w\n",
        "\n",
        "b = torch.tensor([[31., 32., 33.]])\n",
        "fc.bias.data = b\n",
        "\n",
        "fc_out = fc(x)\n",
        "fc_out_summed = fc_out.sum()\n",
        "\n",
        "fc_out_summed.backward()\n",
        "weight_grad = fc.weight.grad\n",
        "bias_grad = fc.bias.grad\n",
        "\n",
        "w.requires_grad_(True)\n",
        "b.requires_grad_(True)\n",
        "\n",
        "our_formula = torch.matmul(x, w.transpose(0, 1)) + b\n",
        "our_formula = our_formula.sum()\n",
        "our_formula.backward()\n",
        "\n",
        "print('fc_weight_grad:', weight_grad)\n",
        "print('our_weight_grad:', w.grad)\n",
        "print('fc_bias_grad:', bias_grad)\n",
        "print('out_bias_grad:', b.grad)"
      ],
      "metadata": {
        "colab": {
          "base_uri": "https://localhost:8080/"
        },
        "id": "djjje1asPH4L",
        "outputId": "2e70b898-9969-4414-8afb-768e35f665c9"
      },
      "execution_count": null,
      "outputs": [
        {
          "output_type": "stream",
          "name": "stdout",
          "text": [
            "fc_weight_grad: tensor([[10., 20.],\n",
            "        [10., 20.],\n",
            "        [10., 20.]])\n",
            "our_weight_grad: tensor([[10., 20.],\n",
            "        [10., 20.],\n",
            "        [10., 20.]])\n",
            "fc_bias_grad: tensor([[1., 1., 1.]])\n",
            "out_bias_grad: tensor([[1., 1., 1.]])\n"
          ]
        }
      ]
    }
  ]
}